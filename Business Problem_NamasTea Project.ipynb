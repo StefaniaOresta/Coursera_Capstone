{
    "cells": [
        {
            "cell_type": "markdown",
            "metadata": {
                "collapsed": true
            },
            "source": "## Business Problem : NamasTea Project"
        },
        {
            "cell_type": "markdown",
            "metadata": {},
            "source": "#### Introduction to NamasTea: \n\nNamasTea corporation is a chian of coffehouses that sells organic and biological products. \nNamasTea locations serve both cold and hot drinks (teas and herbal teas, coffee bavarges, juices, smooties, etc..), pastries, snacks and ,at lunch time, they offer a selection of sandwiches, salads and other healty meal options. Moreover, costumers have the possibilty to buy organic products from the fairtrade market in each NamasTea location. \nNamasTea aims to invest in organic, ecofriendly and seasonal products and increase their clients' awareness towards fairtrade market and healty lifestyle. \n\n#### Business Problem:  NamasTea is interested in opening a new location in Toronto and is asking the data scientist to understand which is the best neighborhood considering the type of served products and the target audience. \n\n\n##### Target audience \n\nNamasTea believes that it's urgent to increase the sensibility of young adults towards fairtrade market, the respect of the enviroment and towards a healthy lifestyle. Its target auduence includes: \n* young adults that are sentitive to this cause and prefer an healthy option for a weekend breakfast, a snack in the afternoon, a coffe with a friend and a smootie after the gym;\n* young professionals that prefers an healty but quinck option for their lunches and need a place for to grab a coffe or a tea;\n* university students that might need a comfortable and quite place to study while having a hot bevarage and that are sensistive to the respect of the environment and pick an organic options for their breaks within classes.\n\n\n\n"
        }
    ],
    "metadata": {
        "kernelspec": {
            "display_name": "Python 3.6",
            "language": "python",
            "name": "python3"
        },
        "language_info": {
            "codemirror_mode": {
                "name": "ipython",
                "version": 3
            },
            "file_extension": ".py",
            "mimetype": "text/x-python",
            "name": "python",
            "nbconvert_exporter": "python",
            "pygments_lexer": "ipython3",
            "version": "3.6.9"
        }
    },
    "nbformat": 4,
    "nbformat_minor": 1
}