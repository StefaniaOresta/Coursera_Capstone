{
    "cells": [
        {
            "cell_type": "markdown",
            "metadata": {
                "collapsed": true
            },
            "source": "## Data section: NamasTea Project \n"
        },
        {
            "cell_type": "markdown",
            "metadata": {},
            "source": "The goal of the *NamastTea project* is to define the **best neighborhood in Toronto to open a new location of the NamasTea coffehouse chain** based on its clientelle and the products served. \nBased on this research question, *Foursquare location data* will be used to compare the different neighborhoods in Toronto based on the existing venues.\n\nAt *first*, the presence of universities, colleges or other higher education facilities (eg. art schools, institues of technology, dormitories,libraries,..) will be used to filter all the neighborhood in Toronto and drop a list of the most interesting neighborhoods based on the aim of the investigation. \n\nAfterwards, the presence of the following range of facilities will be investigated: \n* presence of offices;\n* presence of sport centers such as gyms, pilates centres, yoga centers, dance schools, boxing schools, etc... as measure of interest in a healty lifestyile; \n* presence of other bars or coffehouses and correspondent ratings to understand the most appreciated facilities. A list of the top 5 locations for each neighborhood could be considered as a representation of the general appreciation; \n* presence of markets (eg. food markets, flea markets, fish markets) as a measure of the interest in organic and ecofriedly general attitude in the neighborhood.\n\nMoreover, a general list of the top 10 venues per neighborhood could be consodered as a general measure of the lifestyle in the neigborhoods.  "
        }
    ],
    "metadata": {
        "kernelspec": {
            "display_name": "Python 3.6",
            "language": "python",
            "name": "python3"
        },
        "language_info": {
            "codemirror_mode": {
                "name": "ipython",
                "version": 3
            },
            "file_extension": ".py",
            "mimetype": "text/x-python",
            "name": "python",
            "nbconvert_exporter": "python",
            "pygments_lexer": "ipython3",
            "version": "3.6.9"
        }
    },
    "nbformat": 4,
    "nbformat_minor": 1
}